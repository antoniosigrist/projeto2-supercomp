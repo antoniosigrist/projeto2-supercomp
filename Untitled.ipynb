{
 "cells": [
  {
   "cell_type": "code",
   "execution_count": 7,
   "metadata": {},
   "outputs": [],
   "source": [
    "import matplotlib.pyplot as plt\n"
   ]
  },
  {
   "cell_type": "code",
   "execution_count": 8,
   "metadata": {},
   "outputs": [],
   "source": [
    "size = [1200*800,\n",
    "600*400,\n",
    "400 * 266,\n",
    "300 * 200,\n",
    "240 * 160,\n",
    "200 * 133,\n",
    "171 * 114,\n",
    "150 * 100,\n",
    "133 * 88,\n",
    "120 * 80,\n",
    "109 * 72,\n",
    "100 * 66,\n",
    "92 * 61,\n",
    "85 * 57,\n",
    "80 * 53,\n",
    "75 * 50,\n",
    "66 * 42,\n",
    "63 * 42,\n",
    "50 * 33]\n",
    "\n",
    "\n",
    "time = [13.27,\n",
    "2.29,\n",
    "1.25,\n",
    "0.86,\n",
    "0.76,\n",
    "0.55,\n",
    "0.56,\n",
    "0.45,\n",
    "0.45,\n",
    "0.39,\n",
    "0.33,\n",
    "0.37,\n",
    "0.33,\n",
    "0.28,\n",
    "0.39,\n",
    "0.22,\n",
    "0.28,\n",
    "0.23,\n",
    "0.16]\n",
    "\n"
   ]
  },
  {
   "cell_type": "code",
   "execution_count": 14,
   "metadata": {},
   "outputs": [
    {
     "data": {
      "image/png": "[encoded data removed]",
      "text/plain": [
       "<Figure size 432x288 with 1 Axes>"
      ]
     },
     "metadata": {
      "needs_background": "light"
     },
     "output_type": "display_data"
    }
   ],
   "source": [
    "plt.plot(size,time,\"-\")\n",
    "plt.ylabel('segundos')\n",
    "plt.xlabel('pixels')\n",
    "plt.show()"
   ]
  },
  {
   "cell_type": "code",
   "execution_count": null,
   "metadata": {},
   "outputs": [],
   "source": []
  },
  {
   "cell_type": "code",
   "execution_count": null,
   "metadata": {},
   "outputs": [],
   "source": []
  },
  {
   "cell_type": "code",
   "execution_count": null,
   "metadata": {},
   "outputs": [],
   "source": []
  }
 ],
 "metadata": {
  "kernelspec": {
   "display_name": "Python 3",
   "language": "python",
   "name": "python3"
  },
  "language_info": {
   "codemirror_mode": {
    "name": "ipython",
    "version": 3
   },
   "file_extension": ".py",
   "mimetype": "text/x-python",
   "name": "python",
   "nbconvert_exporter": "python",
   "pygments_lexer": "ipython3",
   "version": "3.7.1"
  }
 },
 "nbformat": 4,
 "nbformat_minor": 2
}
